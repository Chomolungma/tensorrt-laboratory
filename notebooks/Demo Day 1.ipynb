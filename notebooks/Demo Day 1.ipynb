{
 "cells": [
  {
   "cell_type": "code",
   "execution_count": 1,
   "metadata": {},
   "outputs": [],
   "source": [
    "import os\n",
    "import time\n",
    "import numpy as np\n",
    "import wurlitzer\n",
    "\n",
    "import infer\n",
    "import infer_test_utils as utils\n",
    "\n",
    "# this allows us to capture stdout and stderr from the backend c++ infer-runtime\n",
    "display_output = wurlitzer.sys_pipes"
   ]
  },
  {
   "cell_type": "code",
   "execution_count": 2,
   "metadata": {},
   "outputs": [],
   "source": [
    "inputs = utils.load_inputs(\"/work/models/onnx/mnist-v1.3/test_data_set_0\")\n",
    "expected = utils.load_outputs(\"/work/models/onnx/mnist-v1.3/test_data_set_0\")"
   ]
  },
  {
   "cell_type": "code",
   "execution_count": 3,
   "metadata": {},
   "outputs": [
    {
     "name": "stdout",
     "output_type": "stream",
     "text": [
      "&&&& RUNNING TensorRT.trtexec # trtexec --onnx=/work/models/onnx/mnist-v1.3/model.onnx --saveEngine=/tmp/mnist-v1.3.engine\n",
      "[I] onnx: /work/models/onnx/mnist-v1.3/model.onnx\n",
      "[I] saveEngine: /tmp/mnist-v1.3.engine\n",
      "----------------------------------------------------------------\n",
      "Input filename:   /work/models/onnx/mnist-v1.3/model.onnx\n",
      "ONNX IR version:  0.0.3\n",
      "Opset version:    8\n",
      "Producer name:    CNTK\n",
      "Producer version: 2.5.1\n",
      "Domain:           ai.cntk\n",
      "Model version:    1\n",
      "Doc string:       \n",
      "----------------------------------------------------------------\n",
      "[I] [TRT] Detected 1 input and 1 output network tensors.\n",
      "[I] Engine has been successfully saved to /tmp/mnist-v1.3.engine\n",
      "[I] name= Input3, bindingIndex=0, buffers.size()=2\n",
      "[I] name= Plus214_Output_0, bindingIndex=1, buffers.size()=2\n",
      "[I] Average over 10 runs is 0.067584 ms (host walltime is 0.109844 ms, 99% percentile time is 0.098304).\n",
      "[I] Average over 10 runs is 0.0636928 ms (host walltime is 0.108193 ms, 99% percentile time is 0.067584).\n",
      "[I] Average over 10 runs is 0.073216 ms (host walltime is 0.117914 ms, 99% percentile time is 0.15872).\n",
      "[I] Average over 10 runs is 0.0636928 ms (host walltime is 0.109315 ms, 99% percentile time is 0.068608).\n",
      "[I] Average over 10 runs is 0.0631808 ms (host walltime is 0.106856 ms, 99% percentile time is 0.065536).\n",
      "[I] Average over 10 runs is 0.062976 ms (host walltime is 0.106522 ms, 99% percentile time is 0.06656).\n",
      "[I] Average over 10 runs is 0.0641024 ms (host walltime is 0.107844 ms, 99% percentile time is 0.070656).\n",
      "[I] Average over 10 runs is 0.062976 ms (host walltime is 0.106624 ms, 99% percentile time is 0.065536).\n",
      "[I] Average over 10 runs is 0.0631808 ms (host walltime is 0.104121 ms, 99% percentile time is 0.06656).\n",
      "[I] Average over 10 runs is 0.0636928 ms (host walltime is 0.107294 ms, 99% percentile time is 0.070656).\n",
      "&&&& PASSED TensorRT.trtexec # trtexec --onnx=/work/models/onnx/mnist-v1.3/model.onnx --saveEngine=/tmp/mnist-v1.3.engine\n"
     ]
    }
   ],
   "source": [
    "!trtexec --onnx=/work/models/onnx/mnist-v1.3/model.onnx --saveEngine=/tmp/mnist-v1.3.engine"
   ]
  },
  {
   "cell_type": "markdown",
   "metadata": {},
   "source": [
    "# Local Inference Setup"
   ]
  },
  {
   "cell_type": "code",
   "execution_count": 4,
   "metadata": {},
   "outputs": [
    {
     "name": "stderr",
     "output_type": "stream",
     "text": [
      "WARNING: Logging before InitGoogleLogging() is written to STDERR\n",
      "I0118 05:22:18.616114  1064 inference_manager.cc:64] -- Initialzing TensorRT Resource Manager --\n",
      "I0118 05:22:18.616134  1064 inference_manager.cc:65] Maximum Execution Concurrency: 2\n",
      "I0118 05:22:18.616138  1064 inference_manager.cc:66] Maximum Copy Concurrency: 4\n"
     ]
    }
   ],
   "source": [
    "with display_output():\n",
    "    manager = infer.InferenceManager(max_exec_concurrency=2)"
   ]
  },
  {
   "cell_type": "code",
   "execution_count": 5,
   "metadata": {},
   "outputs": [
    {
     "name": "stderr",
     "output_type": "stream",
     "text": [
      "I0118 05:22:21.617839  1064 model.cc:91] Binding: Input3; isInput: true; dtype size: 4; bytes per batch item: 3136\n",
      "I0118 05:22:21.617864  1064 model.cc:91] Binding: Plus214_Output_0; isInput: false; dtype size: 4; bytes per batch item: 40\n",
      "I0118 05:22:21.618674  1064 inference_manager.cc:149] -- Registering Model: mnist --\n",
      "I0118 05:22:21.618687  1064 inference_manager.cc:150] Input/Output Tensors require 3.1 KiB\n",
      "I0118 05:22:21.618692  1064 inference_manager.cc:151] Execution Activations require 55.5 KiB\n",
      "I0118 05:22:21.618696  1064 inference_manager.cc:155] Weights require 23.6 KiB\n"
     ]
    }
   ],
   "source": [
    "with display_output():\n",
    "    manager.register_tensorrt_engine(\"mnist\", \"/tmp/mnist-v1.3.engine\")"
   ]
  },
  {
   "cell_type": "code",
   "execution_count": 6,
   "metadata": {},
   "outputs": [
    {
     "name": "stderr",
     "output_type": "stream",
     "text": [
      "I0118 05:22:22.524006  1064 inference_manager.cc:194] -- Allocating TensorRT Resources --\n",
      "I0118 05:22:22.524017  1064 inference_manager.cc:195] Creating 2 TensorRT execution tokens.\n",
      "I0118 05:22:22.524021  1064 inference_manager.cc:196] Creating a Pool of 4 Host/Device Memory Stacks\n",
      "I0118 05:22:22.524027  1064 inference_manager.cc:197] Each Host Stack contains 32.0 KiB\n",
      "I0118 05:22:22.524031  1064 inference_manager.cc:198] Each Device Stack contains 128.0 KiB\n",
      "I0118 05:22:22.524035  1064 inference_manager.cc:199] Total GPU Memory: 768.0 KiB\n"
     ]
    }
   ],
   "source": [
    "with display_output():\n",
    "    manager.update_resources()"
   ]
  },
  {
   "cell_type": "markdown",
   "metadata": {},
   "source": [
    "# Local Inference Properties"
   ]
  },
  {
   "cell_type": "code",
   "execution_count": 7,
   "metadata": {},
   "outputs": [],
   "source": [
    "mnist = manager.infer_runner(\"mnist\")"
   ]
  },
  {
   "cell_type": "code",
   "execution_count": 8,
   "metadata": {},
   "outputs": [
    {
     "data": {
      "text/plain": [
       "{'Input3': {'dtype': dtype('float32'), 'shape': [1, 28, 28]}}"
      ]
     },
     "execution_count": 8,
     "metadata": {},
     "output_type": "execute_result"
    }
   ],
   "source": [
    "mnist.input_bindings()"
   ]
  },
  {
   "cell_type": "code",
   "execution_count": 9,
   "metadata": {},
   "outputs": [
    {
     "data": {
      "text/plain": [
       "{'Plus214_Output_0': {'dtype': dtype('float32'), 'shape': [10]}}"
      ]
     },
     "execution_count": 9,
     "metadata": {},
     "output_type": "execute_result"
    }
   ],
   "source": [
    "mnist.output_bindings()"
   ]
  },
  {
   "cell_type": "markdown",
   "metadata": {},
   "source": [
    "# Local Inference Compute"
   ]
  },
  {
   "cell_type": "code",
   "execution_count": 10,
   "metadata": {},
   "outputs": [],
   "source": [
    "futures = [mnist.infer(Input3=input) for input in inputs]"
   ]
  },
  {
   "cell_type": "code",
   "execution_count": 11,
   "metadata": {},
   "outputs": [],
   "source": [
    "# free to do other work while inference is being computed"
   ]
  },
  {
   "cell_type": "code",
   "execution_count": 12,
   "metadata": {},
   "outputs": [],
   "source": [
    "results = [f.get() for f in futures]"
   ]
  },
  {
   "cell_type": "code",
   "execution_count": 13,
   "metadata": {},
   "outputs": [
    {
     "name": "stdout",
     "output_type": "stream",
     "text": [
      "Test Passed\n",
      "Result: 2\n"
     ]
    },
    {
     "data": {
      "image/png": "[encoded data removed]",
      "text/plain": [
       "<Figure size 432x288 with 1 Axes>"
      ]
     },
     "metadata": {
      "needs_background": "light"
     },
     "output_type": "display_data"
    },
    {
     "data": {
      "text/plain": [
       "array([[  975.6701  ,  -618.72394 ,  6574.5684  ,   668.02893 ,\n",
       "         -917.27094 , -1671.6359  , -1952.7599  ,   -61.549873,\n",
       "         -777.17664 , -1439.5316  ]], dtype=float32)"
      ]
     },
     "execution_count": 13,
     "metadata": {},
     "output_type": "execute_result"
    }
   ],
   "source": [
    "for r, e in zip(results, expected):\n",
    "    for key, val in r.items():\n",
    "        r = val.reshape((1,10))\n",
    "        np.testing.assert_almost_equal(r, e, decimal=3)\n",
    "        print(\"Test Passed\")\n",
    "        print(\"Result: {}\".format(np.argmax(utils.softmax(r))))\n",
    "\n",
    "utils.mnist_image(inputs[0]).show()\n",
    "expected[0]"
   ]
  },
  {
   "cell_type": "code",
   "execution_count": null,
   "metadata": {},
   "outputs": [],
   "source": []
  }
 ],
 "metadata": {
  "kernelspec": {
   "display_name": "Python 3",
   "language": "python",
   "name": "python3"
  },
  "language_info": {
   "codemirror_mode": {
    "name": "ipython",
    "version": 3
   },
   "file_extension": ".py",
   "mimetype": "text/x-python",
   "name": "python",
   "nbconvert_exporter": "python",
   "pygments_lexer": "ipython3",
   "version": "3.5.2"
  }
 },
 "nbformat": 4,
 "nbformat_minor": 2
}
